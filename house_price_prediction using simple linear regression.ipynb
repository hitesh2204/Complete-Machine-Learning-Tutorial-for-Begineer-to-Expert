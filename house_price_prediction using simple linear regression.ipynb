{
 "cells": [
  {
   "cell_type": "code",
   "execution_count": 36,
   "metadata": {},
   "outputs": [],
   "source": [
    "#Importing libraries.\n",
    "import pandas as pd\n",
    "import matplotlib.pyplot as plt\n",
    "import numpy as np"
   ]
  },
  {
   "cell_type": "code",
   "execution_count": 28,
   "metadata": {},
   "outputs": [
    {
     "name": "stdout",
     "output_type": "stream",
     "text": [
      "   Home   Price  SqFt  Bedrooms  Bathrooms  Offers Brick Neighborhood\n",
      "0     1  114300  1790         2          2       2    No         East\n",
      "1     2  114200  2030         4          2       3    No         East\n",
      "2     3  114800  1740         3          2       1    No         East\n",
      "3     4   94700  1980         3          2       3    No         East\n",
      "4     5  119800  2130         3          3       3    No         East\n"
     ]
    }
   ],
   "source": [
    " house=pd.read_csv(\"E://Datasets//New Dataset//house-prices.csv\")\n",
    " print(house.head())"
   ]
  },
  {
   "cell_type": "code",
   "execution_count": 42,
   "metadata": {},
   "outputs": [
    {
     "data": {
      "text/plain": [
       "Home            0\n",
       "Price           0\n",
       "SqFt            0\n",
       "Bedrooms        0\n",
       "Bathrooms       0\n",
       "Offers          0\n",
       "Brick           0\n",
       "Neighborhood    0\n",
       "dtype: int64"
      ]
     },
     "execution_count": 42,
     "metadata": {},
     "output_type": "execute_result"
    }
   ],
   "source": [
    "house.isnull().sum()"
   ]
  },
  {
   "cell_type": "code",
   "execution_count": 44,
   "metadata": {},
   "outputs": [
    {
     "data": {
      "text/plain": [
       "array([[1790],\n",
       "       [2030],\n",
       "       [1740],\n",
       "       [1980],\n",
       "       [2130],\n",
       "       [1780],\n",
       "       [1830],\n",
       "       [2160],\n",
       "       [2110],\n",
       "       [1730],\n",
       "       [2030],\n",
       "       [1870],\n",
       "       [1910],\n",
       "       [2150],\n",
       "       [2590],\n",
       "       [1780],\n",
       "       [2190],\n",
       "       [1990],\n",
       "       [1700],\n",
       "       [1920],\n",
       "       [1790],\n",
       "       [2000],\n",
       "       [1690],\n",
       "       [1820],\n",
       "       [2210],\n",
       "       [2290],\n",
       "       [2000],\n",
       "       [1700],\n",
       "       [1600],\n",
       "       [2040],\n",
       "       [2250],\n",
       "       [1930],\n",
       "       [2250],\n",
       "       [2280],\n",
       "       [2000],\n",
       "       [2080],\n",
       "       [1880],\n",
       "       [2420],\n",
       "       [1720],\n",
       "       [1740],\n",
       "       [1560],\n",
       "       [1840],\n",
       "       [1990],\n",
       "       [1920],\n",
       "       [1940],\n",
       "       [1810],\n",
       "       [1990],\n",
       "       [2050],\n",
       "       [1980],\n",
       "       [1700],\n",
       "       [2100],\n",
       "       [1860],\n",
       "       [2150],\n",
       "       [2100],\n",
       "       [1650],\n",
       "       [1720],\n",
       "       [2190],\n",
       "       [2240],\n",
       "       [1840],\n",
       "       [2090],\n",
       "       [2200],\n",
       "       [1610],\n",
       "       [2220],\n",
       "       [1910],\n",
       "       [1860],\n",
       "       [1450],\n",
       "       [2210],\n",
       "       [2040],\n",
       "       [2140],\n",
       "       [2080],\n",
       "       [1950],\n",
       "       [2160],\n",
       "       [1650],\n",
       "       [2040],\n",
       "       [2140],\n",
       "       [1900],\n",
       "       [1930],\n",
       "       [2280],\n",
       "       [2130],\n",
       "       [1780],\n",
       "       [2190],\n",
       "       [2140],\n",
       "       [2050],\n",
       "       [2410],\n",
       "       [1520],\n",
       "       [2250],\n",
       "       [1900],\n",
       "       [1880],\n",
       "       [1930],\n",
       "       [2010],\n",
       "       [1920],\n",
       "       [2150],\n",
       "       [2110],\n",
       "       [2080],\n",
       "       [2150],\n",
       "       [1970],\n",
       "       [2440],\n",
       "       [2000],\n",
       "       [2060],\n",
       "       [2080],\n",
       "       [2010],\n",
       "       [2260],\n",
       "       [2410],\n",
       "       [2440],\n",
       "       [1910],\n",
       "       [2530],\n",
       "       [2130],\n",
       "       [1890],\n",
       "       [1990],\n",
       "       [2110],\n",
       "       [1710],\n",
       "       [1740],\n",
       "       [1940],\n",
       "       [2000],\n",
       "       [2010],\n",
       "       [1900],\n",
       "       [2290],\n",
       "       [1920],\n",
       "       [1950],\n",
       "       [1920],\n",
       "       [1930],\n",
       "       [1930],\n",
       "       [2060],\n",
       "       [1900],\n",
       "       [2160],\n",
       "       [2070],\n",
       "       [2020],\n",
       "       [2250]], dtype=int64)"
      ]
     },
     "execution_count": 44,
     "metadata": {},
     "output_type": "execute_result"
    }
   ],
   "source": [
    "#Splitting data into independent and dependent variable.\n",
    "x_data=house.iloc[:,2].values\n",
    "y_data=house.iloc[:,1].values\n",
    "x_data=x_data.reshape(-1,1)\n",
    "y_data=y_data.reshape(-1,1)\n",
    "x_data\n"
   ]
  },
  {
   "cell_type": "code",
   "execution_count": 59,
   "metadata": {},
   "outputs": [
    {
     "data": {
      "text/plain": [
       "array([[129800],\n",
       "       [154000],\n",
       "       [145800],\n",
       "       [157100],\n",
       "       [152500],\n",
       "       [103200],\n",
       "       [ 94700],\n",
       "       [103200],\n",
       "       [151600],\n",
       "       [142600],\n",
       "       [117400],\n",
       "       [126800],\n",
       "       [161300],\n",
       "       [114900],\n",
       "       [ 81300],\n",
       "       [188300],\n",
       "       [113500],\n",
       "       [ 99300],\n",
       "       [111400],\n",
       "       [146900],\n",
       "       [123000],\n",
       "       [126200],\n",
       "       [106900],\n",
       "       [120500],\n",
       "       [ 90500],\n",
       "       [100900],\n",
       "       [114200],\n",
       "       [140900],\n",
       "       [121300],\n",
       "       [111600],\n",
       "       [105600],\n",
       "       [133600],\n",
       "       [119800],\n",
       "       [ 83600],\n",
       "       [131300],\n",
       "       [114600],\n",
       "       [130800],\n",
       "       [199500],\n",
       "       [157600],\n",
       "       [114300],\n",
       "       [117800],\n",
       "       [ 69100],\n",
       "       [125700],\n",
       "       [117100],\n",
       "       [106100],\n",
       "       [144200],\n",
       "       [112300],\n",
       "       [109700],\n",
       "       [152300],\n",
       "       [145500],\n",
       "       [108700],\n",
       "       [135000],\n",
       "       [134000],\n",
       "       [176800],\n",
       "       [108500],\n",
       "       [167200],\n",
       "       [188000],\n",
       "       [107500],\n",
       "       [ 82300],\n",
       "       [164800],\n",
       "       [147900],\n",
       "       [149900],\n",
       "       [143600],\n",
       "       [165600],\n",
       "       [143400],\n",
       "       [116200],\n",
       "       [110400],\n",
       "       [107300],\n",
       "       [176500],\n",
       "       [149300],\n",
       "       [147000],\n",
       "       [184300],\n",
       "       [123600],\n",
       "       [129800],\n",
       "       [102500],\n",
       "       [108200],\n",
       "       [136800],\n",
       "       [111100],\n",
       "       [138100],\n",
       "       [102600],\n",
       "       [115700],\n",
       "       [127700],\n",
       "       [166700],\n",
       "       [172500],\n",
       "       [117500],\n",
       "       [124500],\n",
       "       [113800],\n",
       "       [147700],\n",
       "       [104000],\n",
       "       [211200],\n",
       "       [119700],\n",
       "       [151900],\n",
       "       [130300],\n",
       "       [117800],\n",
       "       [ 90300],\n",
       "       [166500]], dtype=int64)"
      ]
     },
     "execution_count": 59,
     "metadata": {},
     "output_type": "execute_result"
    }
   ],
   "source": [
    "#splitting data into training and testing .\n",
    "from sklearn.model_selection import train_test_split\n",
    "x_train,x_test,y_train,y_test=train_test_split(x_data,y_data,test_size=0.25,random_state=0)\n",
    "y_train"
   ]
  },
  {
   "cell_type": "code",
   "execution_count": 60,
   "metadata": {},
   "outputs": [],
   "source": [
    "#importing linear regression model.\n",
    "from sklearn.linear_model import LinearRegression\n",
    "house_reg=LinearRegression()"
   ]
  },
  {
   "cell_type": "code",
   "execution_count": 61,
   "metadata": {},
   "outputs": [
    {
     "data": {
      "text/plain": [
       "LinearRegression(copy_X=True, fit_intercept=True, n_jobs=None, normalize=False)"
      ]
     },
     "execution_count": 61,
     "metadata": {},
     "output_type": "execute_result"
    }
   ],
   "source": [
    "#fitting taing data into model.\n",
    "house_reg.fit(x_train,y_train)"
   ]
  },
  {
   "cell_type": "code",
   "execution_count": 62,
   "metadata": {},
   "outputs": [],
   "source": [
    "y_pred=house_reg.predict(x_test)"
   ]
  },
  {
   "cell_type": "code",
   "execution_count": 63,
   "metadata": {},
   "outputs": [
    {
     "name": "stdout",
     "output_type": "stream",
     "text": [
      "[[ 99697.92673283]\n",
      " [146506.25895983]\n",
      " [124182.28512849]\n",
      " [121301.77237606]\n",
      " [139304.97707876]\n",
      " [130663.43882146]\n",
      " [149386.77171226]\n",
      " [163069.20728631]\n",
      " [134264.079762  ]\n",
      " [142905.6180193 ]\n",
      " [145786.13077173]\n",
      " [133543.95157389]\n",
      " [132103.69519768]\n",
      " [142185.48983119]\n",
      " [149386.77171226]\n",
      " [151547.15627659]\n",
      " [112660.23411877]\n",
      " [137864.72070254]\n",
      " [138584.84889065]\n",
      " [131383.56700957]\n",
      " [109059.59317823]\n",
      " [150106.89990037]\n",
      " [129943.31063336]\n",
      " [141465.36164308]\n",
      " [126342.66969282]\n",
      " [135704.33613822]\n",
      " [142185.48983119]\n",
      " [145066.00258362]\n",
      " [125622.54150471]\n",
      " [127782.92606903]\n",
      " [142185.48983119]\n",
      " [137144.59251443]]\n"
     ]
    }
   ],
   "source": [
    "print(y_pred)"
   ]
  },
  {
   "cell_type": "code",
   "execution_count": 64,
   "metadata": {},
   "outputs": [
    {
     "data": {
      "image/png": "[encoded data removed]",
      "text/plain": [
       "<Figure size 432x288 with 1 Axes>"
      ]
     },
     "metadata": {
      "needs_background": "light"
     },
     "output_type": "display_data"
    }
   ],
   "source": [
    "#Plotting training data\n",
    "plt.scatter(x_train,y_train,color='g')\n",
    "plt.plot(x_train,house_reg.predict(x_train),color='r')\n",
    "plt.title(\"House price prediction\")\n",
    "plt.xlabel(\"Area sqrfoot\")\n",
    "plt.ylabel(\"House-Price\")\n",
    "plt.show()"
   ]
  },
  {
   "cell_type": "code",
   "execution_count": 65,
   "metadata": {},
   "outputs": [
    {
     "data": {
      "image/png": "[encoded data removed]",
      "text/plain": [
       "<Figure size 432x288 with 1 Axes>"
      ]
     },
     "metadata": {
      "needs_background": "light"
     },
     "output_type": "display_data"
    }
   ],
   "source": [
    "# Plotting data on testing data.\n",
    "plt.scatter(x_test,y_test,color='b')\n",
    "plt.plot(x_train,house_reg.predict(x_train),color='r')\n",
    "plt.title(\"House price prediction\")\n",
    "plt.xlabel(\"Area sqrfoot\")\n",
    "plt.ylabel(\"House-Price\")\n",
    "plt.show()"
   ]
  },
  {
   "cell_type": "code",
   "execution_count": 66,
   "metadata": {},
   "outputs": [
    {
     "name": "stdout",
     "output_type": "stream",
     "text": [
      "0.22713620266247403\n"
     ]
    }
   ],
   "source": [
    "#Calculate model accuracy.\n",
    "from sklearn.metrics import r2_score\n",
    "result=r2_score(y_test,y_pred)\n",
    "print(result)"
   ]
  },
  {
   "cell_type": "code",
   "execution_count": null,
   "metadata": {},
   "outputs": [],
   "source": []
  }
 ],
 "metadata": {
  "kernelspec": {
   "display_name": "Python 3",
   "language": "python",
   "name": "python3"
  },
  "language_info": {
   "codemirror_mode": {
    "name": "ipython",
    "version": 3
   },
   "file_extension": ".py",
   "mimetype": "text/x-python",
   "name": "python",
   "nbconvert_exporter": "python",
   "pygments_lexer": "ipython3",
   "version": "3.7.4"
  }
 },
 "nbformat": 4,
 "nbformat_minor": 2
}
