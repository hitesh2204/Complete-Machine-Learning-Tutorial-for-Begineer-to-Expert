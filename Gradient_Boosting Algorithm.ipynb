{
 "cells": [
  {
   "cell_type": "code",
   "execution_count": 1,
   "metadata": {},
   "outputs": [],
   "source": [
    "#Importing necessory libraries.\n",
    "import pandas as pd\n",
    "import numpy as np\n",
    "import matplotlib.pyplot as plt"
   ]
  },
  {
   "cell_type": "code",
   "execution_count": 2,
   "metadata": {},
   "outputs": [
    {
     "name": "stdout",
     "output_type": "stream",
     "text": [
      "      CRIM    ZN  INDUS  CHAS     NX     RM    AGE     DIS  RAD    TAX  \\\n",
      "0  0.00632  18.0   2.31     0  0.538  6.575   65.2  4.0900    1  296.0   \n",
      "1  0.02731   0.0   7.07     0  0.469  6.421   78.9  4.9671    2  242.0   \n",
      "2  0.02729   0.0   7.07     0  0.469  7.185   61.1  4.9671    2  242.0   \n",
      "3  0.03237   0.0   2.18     0  0.458  6.998   45.8  6.0622    3  222.0   \n",
      "4  0.06905   0.0   2.18     0  0.458  7.147   54.2  6.0622    3  222.0   \n",
      "5  0.02985   0.0   2.18     0  0.458  6.430   58.7  6.0622    3  222.0   \n",
      "6  0.08829  12.5   7.87     0  0.524  6.012   66.6  5.5605    5  311.0   \n",
      "7  0.14455  12.5   7.87     0  0.524  6.172   96.1  5.9505    5  311.0   \n",
      "8  0.21124  12.5   7.87     0  0.524  5.631  100.0  6.0821    5  311.0   \n",
      "9  0.17004  12.5   7.87     0  0.524  6.004   85.9  6.5921    5  311.0   \n",
      "\n",
      "   PTRATIO       B  LSTAT  MEDV  \n",
      "0     15.3  396.90   4.98  24.0  \n",
      "1     17.8  396.90   9.14  21.6  \n",
      "2     17.8  392.83   4.03  34.7  \n",
      "3     18.7  394.63   2.94  33.4  \n",
      "4     18.7  396.90   5.33  36.2  \n",
      "5     18.7  394.12   5.21  28.7  \n",
      "6     15.2  395.60  12.43  22.9  \n",
      "7     15.2  396.90  19.15  27.1  \n",
      "8     15.2  386.63  29.93  16.5  \n",
      "9     15.2  386.71  17.10  18.9  \n"
     ]
    }
   ],
   "source": [
    "#importing dataset.\n",
    "boston=pd.read_csv(\"E://Datasets//boston.csv\")\n",
    "print(boston.head(10))"
   ]
  },
  {
   "cell_type": "code",
   "execution_count": 4,
   "metadata": {},
   "outputs": [],
   "source": [
    "#Splitting data into independent and dependent variable.\n",
    "x_data=boston.iloc[:,0:13].values\n",
    "y_data=boston.iloc[:,-1].values"
   ]
  },
  {
   "cell_type": "code",
   "execution_count": 5,
   "metadata": {},
   "outputs": [],
   "source": [
    "#Splitting data into training and testing variable.\n",
    "from sklearn.model_selection import train_test_split"
   ]
  },
  {
   "cell_type": "code",
   "execution_count": 6,
   "metadata": {},
   "outputs": [],
   "source": [
    "x_train,x_test,y_train,y_test=train_test_split(x_data,y_data,test_size=0.25,random_state=0)"
   ]
  },
  {
   "cell_type": "code",
   "execution_count": 7,
   "metadata": {},
   "outputs": [],
   "source": [
    "#importing gradient_boosting library.\n",
    "from sklearn.ensemble import GradientBoostingRegressor"
   ]
  },
  {
   "cell_type": "code",
   "execution_count": 28,
   "metadata": {},
   "outputs": [],
   "source": [
    "#creating object of GradientBoostingRegressor.\n",
    "grad_boost=GradientBoostingRegressor(max_depth=2,learning_rate=0.5,n_estimators=50)"
   ]
  },
  {
   "cell_type": "code",
   "execution_count": 29,
   "metadata": {},
   "outputs": [
    {
     "data": {
      "text/plain": [
       "GradientBoostingRegressor(alpha=0.9, criterion='friedman_mse', init=None,\n",
       "                          learning_rate=0.5, loss='ls', max_depth=2,\n",
       "                          max_features=None, max_leaf_nodes=None,\n",
       "                          min_impurity_decrease=0.0, min_impurity_split=None,\n",
       "                          min_samples_leaf=1, min_samples_split=2,\n",
       "                          min_weight_fraction_leaf=0.0, n_estimators=50,\n",
       "                          n_iter_no_change=None, presort='auto',\n",
       "                          random_state=None, subsample=1.0, tol=0.0001,\n",
       "                          validation_fraction=0.1, verbose=0, warm_start=False)"
      ]
     },
     "execution_count": 29,
     "metadata": {},
     "output_type": "execute_result"
    }
   ],
   "source": [
    "#Fitting model into training data.\n",
    "grad_boost.fit(x_train,y_train)"
   ]
  },
  {
   "cell_type": "code",
   "execution_count": 30,
   "metadata": {},
   "outputs": [
    {
     "name": "stdout",
     "output_type": "stream",
     "text": [
      "[24.26037663 24.26580234 23.03190824 12.23876994 20.44914219 18.49500673\n",
      " 21.60385408 19.9997082  27.60897864 19.87508723  6.43145595 15.18750432\n",
      " 14.5515283  10.72887976 49.86655927 34.7228134  21.62049207 37.55714659\n",
      " 26.02401763 22.91788012 22.83409738 22.98876405 20.97731885 27.42959661\n",
      " 20.88712405 21.66877187 18.10659247 16.96673517 45.11490607 18.64267193\n",
      " 15.86402573 17.26041466 19.91779487 20.36893145 24.09534999 18.88853637\n",
      "  9.28848932 20.42906587 13.8702435  14.61921436 22.53748422 20.70169145\n",
      " 21.03785205 14.8257527  21.65715829 20.20899865 19.40393888 18.65115516\n",
      " 14.62919654 22.45946094 16.98615911 20.00109777 22.14678132 40.73352721\n",
      " 16.35031677 19.52974915 18.20431473 19.00032779 15.52529154 20.71380218\n",
      " 22.10449337 21.64358044 32.326795   31.84768881 18.86026206 31.32830243\n",
      " 19.06865992 19.47758578 21.29338926 23.77475679 21.39284491 21.65778191\n",
      " 24.54076178 31.50856672 26.07930165  7.68944069 43.67448699 21.84056153\n",
      " 23.66154546 21.43684994 25.35617779 18.19385659 20.01044472 44.19772934\n",
      " 41.61841357 22.81008591 22.95099409 15.4181766  25.71237626 16.2699343\n",
      " 17.16537784 12.89166766 22.45004708 31.3345346  18.88205304 21.3307123\n",
      " 13.46657931 23.96885446 14.90147785 17.1662887  24.57272274 21.09511126\n",
      " 28.73190443 20.41709973 26.53043849 20.22303812  6.60570298 20.15680653\n",
      " 19.30437431 22.718524   34.65135527 12.29976594 18.28403925 18.73412991\n",
      " 14.0352767  20.38085468  8.3304664  19.8908531  10.87913115 53.03485032\n",
      " 32.24427709  9.59192111 18.86386589 22.51762794 20.72495651 19.27297159\n",
      " 32.9939649 ]\n"
     ]
    }
   ],
   "source": [
    "#predicting data.\n",
    "y_pred=grad_boost.predict(x_test)\n",
    "print(y_pred)"
   ]
  },
  {
   "cell_type": "code",
   "execution_count": 31,
   "metadata": {},
   "outputs": [],
   "source": [
    "#finding accuracy of model.\n",
    "from sklearn.metrics import r2_score"
   ]
  },
  {
   "cell_type": "code",
   "execution_count": 32,
   "metadata": {},
   "outputs": [
    {
     "name": "stdout",
     "output_type": "stream",
     "text": [
      "0.7368415125134802\n"
     ]
    }
   ],
   "source": [
    "result=r2_score(y_test,y_pred)\n",
    "print(result)"
   ]
  },
  {
   "cell_type": "code",
   "execution_count": 22,
   "metadata": {},
   "outputs": [],
   "source": [
    "#applying hyper parameter optimization.\n",
    "from sklearn.model_selection import GridSearchCV"
   ]
  },
  {
   "cell_type": "code",
   "execution_count": 27,
   "metadata": {},
   "outputs": [
    {
     "name": "stderr",
     "output_type": "stream",
     "text": [
      "C:\\Users\\Hitesh\\Anaconda3\\lib\\site-packages\\sklearn\\model_selection\\_split.py:1978: FutureWarning: The default value of cv will change from 3 to 5 in version 0.22. Specify it explicitly to silence this warning.\n",
      "  warnings.warn(CV_WARNING, FutureWarning)\n"
     ]
    },
    {
     "data": {
      "text/plain": [
       "({'learning_rate': 0.5, 'n_estimators': 50}, 0.8358272971198015)"
      ]
     },
     "execution_count": 27,
     "metadata": {},
     "output_type": "execute_result"
    }
   ],
   "source": [
    "LR={'learning_rate':[0.5,1.0,1.5,2.0,2.5],\n",
    "    'n_estimators':[50,100,150,200,250]}\n",
    "tuning=GridSearchCV(estimator=GradientBoostingRegressor(),param_grid=LR,scoring='r2')\n",
    "tuning.fit(x_train,y_train)\n",
    "tuning.best_params_,tuning.best_score_"
   ]
  },
  {
   "cell_type": "code",
   "execution_count": null,
   "metadata": {},
   "outputs": [],
   "source": []
  }
 ],
 "metadata": {
  "kernelspec": {
   "display_name": "Python 3",
   "language": "python",
   "name": "python3"
  },
  "language_info": {
   "codemirror_mode": {
    "name": "ipython",
    "version": 3
   },
   "file_extension": ".py",
   "mimetype": "text/x-python",
   "name": "python",
   "nbconvert_exporter": "python",
   "pygments_lexer": "ipython3",
   "version": "3.7.4"
  }
 },
 "nbformat": 4,
 "nbformat_minor": 2
}
