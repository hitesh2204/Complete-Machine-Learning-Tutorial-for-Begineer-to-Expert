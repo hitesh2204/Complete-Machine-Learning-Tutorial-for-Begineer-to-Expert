{
 "cells": [
  {
   "cell_type": "code",
   "execution_count": 32,
   "metadata": {},
   "outputs": [],
   "source": [
    "import pandas as pd\n",
    "import numpy as np\n",
    "import matplotlib.pyplot as plt"
   ]
  },
  {
   "cell_type": "code",
   "execution_count": 33,
   "metadata": {},
   "outputs": [
    {
     "data": {
      "text/html": [
       "<div>\n",
       "<style scoped>\n",
       "    .dataframe tbody tr th:only-of-type {\n",
       "        vertical-align: middle;\n",
       "    }\n",
       "\n",
       "    .dataframe tbody tr th {\n",
       "        vertical-align: top;\n",
       "    }\n",
       "\n",
       "    .dataframe thead th {\n",
       "        text-align: right;\n",
       "    }\n",
       "</style>\n",
       "<table border=\"1\" class=\"dataframe\">\n",
       "  <thead>\n",
       "    <tr style=\"text-align: right;\">\n",
       "      <th></th>\n",
       "      <th>Home</th>\n",
       "      <th>Price</th>\n",
       "      <th>SqFt</th>\n",
       "      <th>Bedrooms</th>\n",
       "      <th>Bathrooms</th>\n",
       "      <th>Offers</th>\n",
       "      <th>Brick</th>\n",
       "      <th>Neighborhood</th>\n",
       "    </tr>\n",
       "  </thead>\n",
       "  <tbody>\n",
       "    <tr>\n",
       "      <td>0</td>\n",
       "      <td>1</td>\n",
       "      <td>114300</td>\n",
       "      <td>1790</td>\n",
       "      <td>2</td>\n",
       "      <td>2</td>\n",
       "      <td>2</td>\n",
       "      <td>No</td>\n",
       "      <td>East</td>\n",
       "    </tr>\n",
       "    <tr>\n",
       "      <td>1</td>\n",
       "      <td>2</td>\n",
       "      <td>114200</td>\n",
       "      <td>2030</td>\n",
       "      <td>4</td>\n",
       "      <td>2</td>\n",
       "      <td>3</td>\n",
       "      <td>No</td>\n",
       "      <td>East</td>\n",
       "    </tr>\n",
       "    <tr>\n",
       "      <td>2</td>\n",
       "      <td>3</td>\n",
       "      <td>114800</td>\n",
       "      <td>1740</td>\n",
       "      <td>3</td>\n",
       "      <td>2</td>\n",
       "      <td>1</td>\n",
       "      <td>No</td>\n",
       "      <td>East</td>\n",
       "    </tr>\n",
       "    <tr>\n",
       "      <td>3</td>\n",
       "      <td>4</td>\n",
       "      <td>94700</td>\n",
       "      <td>1980</td>\n",
       "      <td>3</td>\n",
       "      <td>2</td>\n",
       "      <td>3</td>\n",
       "      <td>No</td>\n",
       "      <td>East</td>\n",
       "    </tr>\n",
       "    <tr>\n",
       "      <td>4</td>\n",
       "      <td>5</td>\n",
       "      <td>119800</td>\n",
       "      <td>2130</td>\n",
       "      <td>3</td>\n",
       "      <td>3</td>\n",
       "      <td>3</td>\n",
       "      <td>No</td>\n",
       "      <td>East</td>\n",
       "    </tr>\n",
       "    <tr>\n",
       "      <td>5</td>\n",
       "      <td>6</td>\n",
       "      <td>114600</td>\n",
       "      <td>1780</td>\n",
       "      <td>3</td>\n",
       "      <td>2</td>\n",
       "      <td>2</td>\n",
       "      <td>No</td>\n",
       "      <td>North</td>\n",
       "    </tr>\n",
       "    <tr>\n",
       "      <td>6</td>\n",
       "      <td>7</td>\n",
       "      <td>151600</td>\n",
       "      <td>1830</td>\n",
       "      <td>3</td>\n",
       "      <td>3</td>\n",
       "      <td>3</td>\n",
       "      <td>Yes</td>\n",
       "      <td>West</td>\n",
       "    </tr>\n",
       "    <tr>\n",
       "      <td>7</td>\n",
       "      <td>8</td>\n",
       "      <td>150700</td>\n",
       "      <td>2160</td>\n",
       "      <td>4</td>\n",
       "      <td>2</td>\n",
       "      <td>2</td>\n",
       "      <td>No</td>\n",
       "      <td>West</td>\n",
       "    </tr>\n",
       "    <tr>\n",
       "      <td>8</td>\n",
       "      <td>9</td>\n",
       "      <td>119200</td>\n",
       "      <td>2110</td>\n",
       "      <td>4</td>\n",
       "      <td>2</td>\n",
       "      <td>3</td>\n",
       "      <td>No</td>\n",
       "      <td>East</td>\n",
       "    </tr>\n",
       "    <tr>\n",
       "      <td>9</td>\n",
       "      <td>10</td>\n",
       "      <td>104000</td>\n",
       "      <td>1730</td>\n",
       "      <td>3</td>\n",
       "      <td>3</td>\n",
       "      <td>3</td>\n",
       "      <td>No</td>\n",
       "      <td>East</td>\n",
       "    </tr>\n",
       "  </tbody>\n",
       "</table>\n",
       "</div>"
      ],
      "text/plain": [
       "   Home   Price  SqFt  Bedrooms  Bathrooms  Offers Brick Neighborhood\n",
       "0     1  114300  1790         2          2       2    No         East\n",
       "1     2  114200  2030         4          2       3    No         East\n",
       "2     3  114800  1740         3          2       1    No         East\n",
       "3     4   94700  1980         3          2       3    No         East\n",
       "4     5  119800  2130         3          3       3    No         East\n",
       "5     6  114600  1780         3          2       2    No        North\n",
       "6     7  151600  1830         3          3       3   Yes         West\n",
       "7     8  150700  2160         4          2       2    No         West\n",
       "8     9  119200  2110         4          2       3    No         East\n",
       "9    10  104000  1730         3          3       3    No         East"
      ]
     },
     "execution_count": 33,
     "metadata": {},
     "output_type": "execute_result"
    }
   ],
   "source": [
    "house=pd.read_csv(\"E://Datasets//New Dataset//house-prices.csv\")\n",
    "house.head(10)"
   ]
  },
  {
   "cell_type": "code",
   "execution_count": 34,
   "metadata": {},
   "outputs": [],
   "source": [
    "house.drop(columns=[\"Brick\",\"Neighborhood\"],axis=1,inplace=True)"
   ]
  },
  {
   "cell_type": "code",
   "execution_count": 35,
   "metadata": {},
   "outputs": [
    {
     "data": {
      "text/plain": [
       "Index(['Home', 'Price', 'SqFt', 'Bedrooms', 'Bathrooms', 'Offers'], dtype='object')"
      ]
     },
     "execution_count": 35,
     "metadata": {},
     "output_type": "execute_result"
    }
   ],
   "source": [
    "house.columns"
   ]
  },
  {
   "cell_type": "code",
   "execution_count": 41,
   "metadata": {},
   "outputs": [],
   "source": [
    "#splitting data into independent and dependent variable.\n",
    "x_data=house.iloc[:,2:8].values\n",
    "y_data=house.iloc[:,1].values"
   ]
  },
  {
   "cell_type": "code",
   "execution_count": 43,
   "metadata": {},
   "outputs": [
    {
     "data": {
      "text/plain": [
       "array([[1790,    2,    2,    2],\n",
       "       [2030,    4,    2,    3],\n",
       "       [1740,    3,    2,    1],\n",
       "       [1980,    3,    2,    3],\n",
       "       [2130,    3,    3,    3],\n",
       "       [1780,    3,    2,    2],\n",
       "       [1830,    3,    3,    3],\n",
       "       [2160,    4,    2,    2],\n",
       "       [2110,    4,    2,    3],\n",
       "       [1730,    3,    3,    3],\n",
       "       [2030,    3,    2,    3],\n",
       "       [1870,    2,    2,    2],\n",
       "       [1910,    3,    2,    4],\n",
       "       [2150,    3,    3,    5],\n",
       "       [2590,    4,    3,    4],\n",
       "       [1780,    4,    2,    1],\n",
       "       [2190,    3,    3,    4],\n",
       "       [1990,    3,    3,    4],\n",
       "       [1700,    2,    2,    1],\n",
       "       [1920,    3,    3,    2],\n",
       "       [1790,    3,    2,    3],\n",
       "       [2000,    3,    2,    4],\n",
       "       [1690,    3,    2,    3],\n",
       "       [1820,    3,    2,    3],\n",
       "       [2210,    4,    3,    2],\n",
       "       [2290,    4,    3,    3],\n",
       "       [2000,    4,    2,    3],\n",
       "       [1700,    3,    2,    2],\n",
       "       [1600,    2,    2,    3],\n",
       "       [2040,    4,    3,    1],\n",
       "       [2250,    4,    3,    3],\n",
       "       [1930,    2,    2,    2],\n",
       "       [2250,    3,    3,    3],\n",
       "       [2280,    5,    3,    4],\n",
       "       [2000,    2,    2,    3],\n",
       "       [2080,    3,    3,    3],\n",
       "       [1880,    2,    2,    2],\n",
       "       [2420,    4,    3,    4],\n",
       "       [1720,    3,    2,    1],\n",
       "       [1740,    3,    2,    2],\n",
       "       [1560,    2,    2,    1],\n",
       "       [1840,    4,    3,    2],\n",
       "       [1990,    2,    2,    3],\n",
       "       [1920,    3,    2,    1],\n",
       "       [1940,    3,    3,    2],\n",
       "       [1810,    3,    2,    3],\n",
       "       [1990,    2,    3,    2],\n",
       "       [2050,    3,    2,    6],\n",
       "       [1980,    2,    2,    2],\n",
       "       [1700,    3,    2,    3],\n",
       "       [2100,    3,    2,    3],\n",
       "       [1860,    2,    2,    3],\n",
       "       [2150,    2,    3,    4],\n",
       "       [2100,    3,    2,    3],\n",
       "       [1650,    3,    2,    3],\n",
       "       [1720,    2,    2,    2],\n",
       "       [2190,    3,    2,    3],\n",
       "       [2240,    4,    3,    3],\n",
       "       [1840,    3,    3,    1],\n",
       "       [2090,    4,    2,    1],\n",
       "       [2200,    3,    3,    1],\n",
       "       [1610,    2,    2,    2],\n",
       "       [2220,    4,    3,    2],\n",
       "       [1910,    2,    3,    2],\n",
       "       [1860,    3,    2,    2],\n",
       "       [1450,    2,    2,    1],\n",
       "       [2210,    3,    3,    4],\n",
       "       [2040,    4,    3,    3],\n",
       "       [2140,    3,    2,    4],\n",
       "       [2080,    4,    3,    3],\n",
       "       [1950,    3,    3,    3],\n",
       "       [2160,    4,    2,    1],\n",
       "       [1650,    3,    2,    3],\n",
       "       [2040,    3,    3,    2],\n",
       "       [2140,    3,    3,    3],\n",
       "       [1900,    2,    2,    2],\n",
       "       [1930,    3,    2,    2],\n",
       "       [2280,    4,    3,    3],\n",
       "       [2130,    3,    2,    3],\n",
       "       [1780,    4,    2,    1],\n",
       "       [2190,    3,    3,    4],\n",
       "       [2140,    4,    3,    2],\n",
       "       [2050,    2,    2,    1],\n",
       "       [2410,    3,    3,    2],\n",
       "       [1520,    2,    2,    3],\n",
       "       [2250,    4,    3,    2],\n",
       "       [1900,    4,    2,    4],\n",
       "       [1880,    3,    3,    1],\n",
       "       [1930,    3,    3,    2],\n",
       "       [2010,    2,    2,    4],\n",
       "       [1920,    4,    2,    2],\n",
       "       [2150,    3,    2,    2],\n",
       "       [2110,    3,    2,    2],\n",
       "       [2080,    3,    3,    2],\n",
       "       [2150,    4,    3,    3],\n",
       "       [1970,    2,    2,    1],\n",
       "       [2440,    3,    3,    3],\n",
       "       [2000,    2,    2,    1],\n",
       "       [2060,    3,    2,    1],\n",
       "       [2080,    3,    3,    2],\n",
       "       [2010,    3,    2,    5],\n",
       "       [2260,    3,    3,    5],\n",
       "       [2410,    3,    3,    4],\n",
       "       [2440,    4,    3,    3],\n",
       "       [1910,    3,    2,    4],\n",
       "       [2530,    4,    3,    4],\n",
       "       [2130,    3,    2,    4],\n",
       "       [1890,    3,    2,    1],\n",
       "       [1990,    3,    3,    3],\n",
       "       [2110,    3,    2,    3],\n",
       "       [1710,    2,    2,    1],\n",
       "       [1740,    2,    2,    2],\n",
       "       [1940,    2,    2,    2],\n",
       "       [2000,    3,    2,    3],\n",
       "       [2010,    4,    3,    2],\n",
       "       [1900,    3,    3,    3],\n",
       "       [2290,    5,    4,    1],\n",
       "       [1920,    3,    2,    2],\n",
       "       [1950,    3,    2,    3],\n",
       "       [1920,    2,    2,    4],\n",
       "       [1930,    2,    3,    3],\n",
       "       [1930,    3,    3,    3],\n",
       "       [2060,    2,    2,    1],\n",
       "       [1900,    3,    3,    3],\n",
       "       [2160,    4,    3,    3],\n",
       "       [2070,    2,    2,    2],\n",
       "       [2020,    3,    3,    1],\n",
       "       [2250,    3,    3,    4]], dtype=int64)"
      ]
     },
     "execution_count": 43,
     "metadata": {},
     "output_type": "execute_result"
    }
   ],
   "source": [
    "x_data"
   ]
  },
  {
   "cell_type": "code",
   "execution_count": 44,
   "metadata": {},
   "outputs": [
    {
     "data": {
      "text/plain": [
       "array([114300, 114200, 114800,  94700, 119800, 114600, 151600, 150700,\n",
       "       119200, 104000, 132500, 123000, 102600, 126300, 176800, 145800,\n",
       "       147100,  83600, 111400, 167200, 116200, 113800,  91700, 106100,\n",
       "       156400, 149300, 137000,  99300,  69100, 188000, 182000, 112300,\n",
       "       135000, 139600, 117800, 117100, 117500, 147000, 131300, 108200,\n",
       "       106600, 133600, 105600, 154000, 166500, 103200, 129800,  90300,\n",
       "       115900, 107500, 151100,  91100, 117400, 130800,  81300, 125700,\n",
       "       140900, 152300, 138100, 155400, 180900, 100900, 161300, 120500,\n",
       "       130300, 111100, 126200, 151900,  93600, 165600, 166700, 157600,\n",
       "       107300, 125700, 144200, 106900, 129800, 176500, 121300, 143600,\n",
       "       143400, 184300, 164800, 147700,  90500, 188300, 102700, 172500,\n",
       "       127700,  97800, 143100, 116500, 142600, 157100, 160600, 152500,\n",
       "       133300, 126800, 145500, 171000, 103200, 123100, 136800, 211200,\n",
       "        82300, 146900, 108500, 134000, 117000, 108700, 111600, 114900,\n",
       "       123600, 115700, 124500, 102500, 199500, 117800, 150200, 109700,\n",
       "       110400, 105600, 144800, 119700, 147900, 113500, 149900, 124600],\n",
       "      dtype=int64)"
      ]
     },
     "execution_count": 44,
     "metadata": {},
     "output_type": "execute_result"
    }
   ],
   "source": [
    "y_data"
   ]
  },
  {
   "cell_type": "code",
   "execution_count": 47,
   "metadata": {},
   "outputs": [],
   "source": [
    "#splitting data into training and testing data.\n",
    "from sklearn.model_selection import train_test_split\n",
    "x_train,x_test,y_train,y_test=train_test_split(x_data,y_data,test_size=0.25,random_state=0)"
   ]
  },
  {
   "cell_type": "code",
   "execution_count": 48,
   "metadata": {},
   "outputs": [],
   "source": [
    "#importing library for mulitple linear regression.\n",
    "from sklearn.linear_model import LinearRegression\n",
    "house_lin=LinearRegression()"
   ]
  },
  {
   "cell_type": "code",
   "execution_count": 49,
   "metadata": {},
   "outputs": [
    {
     "data": {
      "text/plain": [
       "LinearRegression(copy_X=True, fit_intercept=True, n_jobs=None, normalize=False)"
      ]
     },
     "execution_count": 49,
     "metadata": {},
     "output_type": "execute_result"
    }
   ],
   "source": [
    "house_lin.fit(x_train,y_train)"
   ]
  },
  {
   "cell_type": "code",
   "execution_count": 51,
   "metadata": {},
   "outputs": [
    {
     "data": {
      "text/plain": [
       "array([[1930,    3,    2,    2],\n",
       "       [1920,    3,    2,    1],\n",
       "       [1780,    4,    2,    1],\n",
       "       [2080,    3,    3,    2],\n",
       "       [1970,    2,    2,    1],\n",
       "       [1810,    3,    2,    3],\n",
       "       [1980,    3,    2,    3],\n",
       "       [2010,    3,    2,    5],\n",
       "       [1830,    3,    3,    3],\n",
       "       [2110,    3,    2,    2],\n",
       "       [2150,    2,    3,    4],\n",
       "       [2000,    2,    2,    1],\n",
       "       [2220,    4,    3,    2],\n",
       "       [1740,    2,    2,    2],\n",
       "       [1650,    3,    2,    3],\n",
       "       [2250,    4,    3,    2],\n",
       "       [2070,    2,    2,    2],\n",
       "       [1700,    3,    2,    2],\n",
       "       [1700,    2,    2,    1],\n",
       "       [2530,    4,    3,    4],\n",
       "       [1870,    2,    2,    2],\n",
       "       [2210,    3,    3,    4],\n",
       "       [1900,    2,    2,    2],\n",
       "       [1910,    2,    3,    2],\n",
       "       [1520,    2,    2,    3],\n",
       "       [1610,    2,    2,    2],\n",
       "       [2030,    4,    2,    3],\n",
       "       [2190,    3,    2,    3],\n",
       "       [2130,    3,    2,    3],\n",
       "       [1710,    2,    2,    1],\n",
       "       [1990,    2,    2,    3],\n",
       "       [1840,    4,    3,    2],\n",
       "       [2130,    3,    3,    3],\n",
       "       [1990,    3,    3,    4],\n",
       "       [1720,    3,    2,    1],\n",
       "       [1780,    3,    2,    2],\n",
       "       [2100,    3,    2,    3],\n",
       "       [2290,    5,    4,    1],\n",
       "       [2160,    4,    2,    1],\n",
       "       [1790,    2,    2,    2],\n",
       "       [2000,    2,    2,    3],\n",
       "       [1600,    2,    2,    3],\n",
       "       [1720,    2,    2,    2],\n",
       "       [2080,    3,    3,    3],\n",
       "       [1820,    3,    2,    3],\n",
       "       [2140,    3,    3,    3],\n",
       "       [1930,    2,    2,    2],\n",
       "       [1920,    2,    2,    4],\n",
       "       [2240,    4,    3,    3],\n",
       "       [2060,    3,    2,    1],\n",
       "       [2110,    3,    2,    3],\n",
       "       [2250,    3,    3,    3],\n",
       "       [1890,    3,    2,    1],\n",
       "       [2590,    4,    3,    4],\n",
       "       [2130,    3,    2,    4],\n",
       "       [1920,    3,    3,    2],\n",
       "       [2040,    4,    3,    1],\n",
       "       [1700,    3,    2,    3],\n",
       "       [1910,    3,    2,    4],\n",
       "       [2050,    2,    2,    1],\n",
       "       [2160,    4,    3,    3],\n",
       "       [2020,    3,    3,    1],\n",
       "       [1780,    4,    2,    1],\n",
       "       [2080,    4,    3,    3],\n",
       "       [2190,    3,    3,    4],\n",
       "       [1790,    3,    2,    3],\n",
       "       [1930,    2,    3,    3],\n",
       "       [1650,    3,    2,    3],\n",
       "       [2280,    4,    3,    3],\n",
       "       [2290,    4,    3,    3],\n",
       "       [2420,    4,    3,    4],\n",
       "       [2140,    4,    3,    2],\n",
       "       [1940,    2,    2,    2],\n",
       "       [1990,    2,    3,    2],\n",
       "       [1900,    3,    3,    3],\n",
       "       [1740,    3,    2,    2],\n",
       "       [2410,    3,    3,    4],\n",
       "       [1450,    2,    2,    1],\n",
       "       [1840,    3,    3,    1],\n",
       "       [1910,    3,    2,    4],\n",
       "       [2000,    3,    2,    3],\n",
       "       [1930,    3,    3,    2],\n",
       "       [1950,    3,    3,    3],\n",
       "       [1880,    3,    3,    1],\n",
       "       [1880,    2,    2,    2],\n",
       "       [2010,    4,    3,    2],\n",
       "       [2000,    3,    2,    4],\n",
       "       [2410,    3,    3,    2],\n",
       "       [1730,    3,    3,    3],\n",
       "       [2440,    4,    3,    3],\n",
       "       [1900,    3,    3,    3],\n",
       "       [2040,    4,    3,    3],\n",
       "       [1860,    3,    2,    2],\n",
       "       [1920,    3,    2,    2],\n",
       "       [2050,    3,    2,    6],\n",
       "       [1940,    3,    3,    2]], dtype=int64)"
      ]
     },
     "execution_count": 51,
     "metadata": {},
     "output_type": "execute_result"
    }
   ],
   "source": [
    "x_train"
   ]
  },
  {
   "cell_type": "code",
   "execution_count": 53,
   "metadata": {},
   "outputs": [
    {
     "name": "stdout",
     "output_type": "stream",
     "text": [
      "[110156.0523436  168094.81798263 108161.62930778 100890.21327165\n",
      " 135327.56717923 130908.25068122 133160.42008108 159074.52360056\n",
      " 148059.5137369  152478.83023491 172095.86572843 120925.51751737\n",
      "  96257.29373567 150317.63775096 156576.80951081 153827.59611699\n",
      " 130817.27376531 162119.08717877 125306.93774927 128442.47824339\n",
      "  99644.33353387 119764.66008131 122422.89655923 113788.92927745\n",
      " 127152.74762531 141451.91114286 142458.20080495 129404.91702517\n",
      " 137456.81801126 115918.18010949 112879.57114547 150563.18244085]\n"
     ]
    }
   ],
   "source": [
    "y_pred=house_lin.predict(x_test)\n",
    "print(y_pred)"
   ]
  },
  {
   "cell_type": "code",
   "execution_count": 54,
   "metadata": {},
   "outputs": [],
   "source": [
    "#Calculating accuracy of model.\n",
    "from sklearn.metrics import r2_score\n",
    "result=r2_score(y_test,y_pred)"
   ]
  },
  {
   "cell_type": "code",
   "execution_count": 55,
   "metadata": {},
   "outputs": [
    {
     "name": "stdout",
     "output_type": "stream",
     "text": [
      "0.5921796242692079\n"
     ]
    }
   ],
   "source": [
    "print(result)"
   ]
  },
  {
   "cell_type": "code",
   "execution_count": null,
   "metadata": {},
   "outputs": [],
   "source": []
  }
 ],
 "metadata": {
  "kernelspec": {
   "display_name": "Python 3",
   "language": "python",
   "name": "python3"
  },
  "language_info": {
   "codemirror_mode": {
    "name": "ipython",
    "version": 3
   },
   "file_extension": ".py",
   "mimetype": "text/x-python",
   "name": "python",
   "nbconvert_exporter": "python",
   "pygments_lexer": "ipython3",
   "version": "3.7.4"
  }
 },
 "nbformat": 4,
 "nbformat_minor": 2
}
